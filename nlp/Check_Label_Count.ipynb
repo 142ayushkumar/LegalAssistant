{
 "cells": [
  {
   "cell_type": "code",
   "execution_count": 1,
   "metadata": {},
   "outputs": [],
   "source": [
    "import json\n",
    "\n",
    "FILE = \"../data/case_to_subjects.json\"  # Data containing the case and there labels\n",
    "with open(FILE) as f:\n",
    "    data = json.load(f)"
   ]
  },
  {
   "cell_type": "code",
   "execution_count": 2,
   "metadata": {},
   "outputs": [],
   "source": [
    "val = dict()\n",
    "val = {}\n",
    "for k,v in data.items():\n",
    "    for x in v:\n",
    "        if x in val:\n",
    "            val[x]+=1\n",
    "        else:\n",
    "            val[x] = 1"
   ]
  },
  {
   "cell_type": "code",
   "execution_count": 4,
   "metadata": {},
   "outputs": [
    {
     "name": "stdout",
     "output_type": "stream",
     "text": [
      "practice & procedure ,  13272\n",
      "criminal ,  12632\n",
      "constitution ,  6478\n",
      "land & property ,  6249\n",
      "labour & industrial law ,  6088\n",
      "service ,  5114\n",
      "civil procedure ,  4916\n",
      "indirect tax ,  4146\n",
      "income tax & direct taxes ,  3245\n",
      "corporate ,  2084\n",
      "excise ,  1943\n",
      "municipalities & local governments ,  1767\n",
      "family & personal ,  1561\n",
      "customs ,  1551\n",
      "rent control ,  1538\n",
      "sales tax ,  1345\n",
      "banking & finance ,  1335\n",
      "carriers & transportation ,  1198\n",
      "arbitration & adr ,  1195\n",
      "administrative ,  984\n",
      "contract & commercial ,  945\n",
      "defence & security forces ,  889\n",
      "education ,  883\n",
      "election ,  815\n",
      "socio-economic ,  764\n",
      "advocates & judges ,  741\n",
      "trusts & associations ,  688\n",
      "consumer protection ,  677\n",
      "insurance ,  523\n",
      "trade ,  512\n",
      "health & drug ,  502\n",
      "women & children ,  463\n",
      "environment, wildlife & animal ,  413\n",
      "electricity & energy ,  366\n",
      "tort ,  350\n",
      "agriculture & agri. products ,  251\n",
      "mines & minerals ,  249\n",
      "human rights ,  172\n",
      "parliament & legislature ,  162\n",
      "intellectual property ,  136\n",
      "water ,  136\n",
      "media & entertainment ,  128\n",
      "fema ,  92\n",
      "miscellaneous ,  82\n",
      "securities exchange board of india ,  80\n",
      "foreigners ,  73\n",
      "petroleum & gas ,  72\n",
      "international ,  68\n",
      "telecom ,  67\n",
      "mrtp ,  61\n",
      "vat ,  45\n",
      "exchange control & fdi ,  41\n",
      "service tax ,  35\n",
      "textiles ,  27\n",
      "capital market ,  21\n",
      "competition ,  20\n",
      "rbi ,  19\n",
      "air law ,  18\n",
      "accounts & audits ,  14\n",
      "anti-dumping ,  12\n",
      "it & e-commerce ,  6\n",
      "disinvestment ,  1\n"
     ]
    }
   ],
   "source": [
    "sort_key = sorted(val,key=lambda x:val[x],reverse=True)\n",
    "for k in sort_key:\n",
    "    print(k,\", \",val[k])"
   ]
  },
  {
   "cell_type": "code",
   "execution_count": 5,
   "metadata": {},
   "outputs": [],
   "source": [
    "with open('../data/even_distribution_freq.json') as f:\n",
    "    sim = json.load(f)\n",
    "    \n",
    "# reverse dict -- k:v where v is the number of lables in which k is merged \n",
    "rev_sim = dict()\n",
    "for k,v in sim.items():\n",
    "    for x in v:\n",
    "        if x in rev_sim:\n",
    "            rev_sim[x].append(k)\n",
    "        else:\n",
    "            rev_sim[x] = [k]"
   ]
  },
  {
   "cell_type": "code",
   "execution_count": 6,
   "metadata": {},
   "outputs": [],
   "source": [
    "fin_val = {}\n",
    "for k,v in data.items():\n",
    "    for x in v:\n",
    "        if x in rev_sim:\n",
    "            for y in rev_sim[x]:\n",
    "                if y in fin_val:\n",
    "                    fin_val[y]+=1\n",
    "                else:\n",
    "                    fin_val[y] = 1\n",
    "        else:\n",
    "            if x in fin_val:\n",
    "                fin_val[x]+=1\n",
    "            else:\n",
    "                fin_val[x] = 1"
   ]
  },
  {
   "cell_type": "code",
   "execution_count": 7,
   "metadata": {},
   "outputs": [
    {
     "name": "stdout",
     "output_type": "stream",
     "text": [
      "practice & procedure ,  13272\n",
      "criminal ,  12638\n",
      "constitution ,  6478\n",
      "land & property ,  6249\n",
      "labour & industrial law ,  6088\n",
      "service ,  5134\n",
      "civil procedure ,  4916\n",
      "indirect tax ,  4226\n",
      "income tax & direct taxes ,  3259\n",
      "corporate ,  2199\n",
      "excise ,  1943\n",
      "municipalities & local governments ,  1767\n",
      "customs ,  1563\n",
      "family & personal ,  1561\n",
      "rent control ,  1538\n",
      "sales tax ,  1390\n",
      "banking & finance ,  1354\n",
      "carriers & transportation ,  1216\n",
      "arbitration & adr ,  1195\n",
      "contract & commercial ,  986\n",
      "administrative ,  984\n",
      "defence & security forces ,  889\n",
      "education ,  889\n",
      "election ,  815\n",
      "socio-economic ,  764\n",
      "advocates & judges ,  741\n",
      "consumer protection ,  738\n",
      "trusts & associations ,  688\n",
      "trade ,  654\n",
      "insurance ,  523\n",
      "health & drug ,  502\n",
      "women & children ,  463\n",
      "environment ,  431\n",
      "electricity & energy ,  366\n",
      "tort ,  350\n",
      "mines & minerals ,  321\n",
      "agriculture & agri. products ,  278\n",
      "human rights ,  172\n",
      "parliament & legislature ,  162\n",
      "foreign ,  141\n",
      "intellectual property ,  136\n",
      "water ,  136\n",
      "foreign exchange ,  133\n",
      "media & entertainment ,  128\n",
      "miscellaneous ,  82\n"
     ]
    }
   ],
   "source": [
    "sort_key = sorted(fin_val,key=lambda x:fin_val[x],reverse=True)\n",
    "for k in sort_key:\n",
    "    print(k,\", \",fin_val[k])"
   ]
  }
 ],
 "metadata": {
  "kernelspec": {
   "display_name": "Python [conda env:cgcnn]",
   "language": "python",
   "name": "conda-env-cgcnn-py"
  },
  "language_info": {
   "codemirror_mode": {
    "name": "ipython",
    "version": 3
   },
   "file_extension": ".py",
   "mimetype": "text/x-python",
   "name": "python",
   "nbconvert_exporter": "python",
   "pygments_lexer": "ipython3",
   "version": "3.6.7"
  }
 },
 "nbformat": 4,
 "nbformat_minor": 2
}
