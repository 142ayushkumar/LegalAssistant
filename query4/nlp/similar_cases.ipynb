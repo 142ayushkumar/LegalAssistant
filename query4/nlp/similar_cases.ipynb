{
 "cells": [
  {
   "cell_type": "code",
   "execution_count": 1,
   "metadata": {},
   "outputs": [],
   "source": [
    "from sklearn.neighbors import KDTree\n",
    "from sklearn.metrics.pairwise import cosine_similarity\n",
    "import numpy as np\n",
    "import json\n",
    "DATA_DIR = \"../data/\"\n",
    "COSTHRESH = 0.55"
   ]
  },
  {
   "cell_type": "code",
   "execution_count": 2,
   "metadata": {},
   "outputs": [],
   "source": [
    "EMBEDDING_FILE = '../data/embeddings/glove.840B.300d/glove.840B.300d.txt'\n",
    "def get_coefs(word,*arr): return word, np.asarray(arr, dtype='float32')\n",
    "embeddings_index = dict(get_coefs(*o.split(\" \")) for o in open(EMBEDDING_FILE))\n"
   ]
  },
  {
   "cell_type": "code",
   "execution_count": 3,
   "metadata": {},
   "outputs": [
    {
     "name": "stdout",
     "output_type": "stream",
     "text": [
      "indlaw not found\n"
     ]
    }
   ],
   "source": [
    "# To create a tree\n",
    "with open(DATA_DIR+\"legal_words.json\") as kfile:\n",
    "    keywords = json.load(kfile)\n",
    "    \n",
    "key_index = {}\n",
    "index_key ={}\n",
    "keyword_matrix = []\n",
    "sz = len(embeddings_index.get(\"court\"))\n",
    "for i,key in enumerate(reversed(sorted(keywords.items(), key=lambda x: x[1]))):\n",
    "    if key[0] in embeddings_index:\n",
    "        key_index[key[0]] = i\n",
    "        index_key[i] = key[0]\n",
    "        keyword_matrix.append(embeddings_index.get(key[0]))\n",
    "    else:\n",
    "        index_key[i] = key[0]\n",
    "        keyword_matrix.append(np.array([100]*sz))\n",
    "        print(key[0] + \" not found\")\n",
    "    if i > 1000:\n",
    "        break\n",
    "keyword_matrix = np.array(keyword_matrix)\n",
    "tree = KDTree(keyword_matrix)"
   ]
  },
  {
   "cell_type": "code",
   "execution_count": 4,
   "metadata": {},
   "outputs": [],
   "source": [
    "def get_similar_words(inword, numwords):\n",
    "    if inword not in embeddings_index:\n",
    "        return []\n",
    "    dist, ind = tree.query(embeddings_index.get(inword).reshape(1,-1),k=numwords) \n",
    "    simlist = []\n",
    "    for hkey in ind[0]:\n",
    "        simlist.append(index_key[hkey])\n",
    "    return simlist\n",
    "\n",
    "def get_keyword(lstkeys):\n",
    "    actual_word = {}\n",
    "    for word in lstkeys:\n",
    "        similar_words = get_similar_words(word,1)\n",
    "        if len(similar_words)==0:\n",
    "            continue\n",
    "        if cosine_similarity(embeddings_index.get(similar_words[0]).reshape(1,-1),embeddings_index.get(word.lower()).reshape(1,-1))[0] > COSTHRESH:\n",
    "            actual_word[word] = similar_words[0]\n",
    "    return actual_word"
   ]
  },
  {
   "cell_type": "code",
   "execution_count": 5,
   "metadata": {},
   "outputs": [],
   "source": [
    "with open(DATA_DIR+\"keywords_to_cases.json\") as ktc:\n",
    "    case_keywords = json.load(ktc) "
   ]
  },
  {
   "cell_type": "code",
   "execution_count": 72,
   "metadata": {},
   "outputs": [
    {
     "data": {
      "text/plain": [
       "[('1993_U_141', ['India', 'paid']),\n",
       " ('1985_S_32', ['India', 'paid']),\n",
       " ('1964_C_73', ['India', 'paid']),\n",
       " ('1985_U_39', ['India', 'paid']),\n",
       " ('1963_S_20', ['India', 'paid']),\n",
       " ('2003_S_469', ['India', 'paid']),\n",
       " ('1980_J_7', ['India', 'paid']),\n",
       " ('1962_T_69', ['India', 'paid']),\n",
       " ('1986_N_11', ['India', 'paid']),\n",
       " ('1981_N_12', ['India', 'paid'])]"
      ]
     },
     "execution_count": 72,
     "metadata": {},
     "output_type": "execute_result"
    }
   ],
   "source": [
    "def get_similar_cases(lstkeys,topn):\n",
    "    keywords = get_keyword(lstkeys)\n",
    "    case_score = {}\n",
    "    for keyword in keywords:\n",
    "        true_keyword = keywords[keyword]\n",
    "        if true_keyword in case_keywords:\n",
    "            for case in case_keywords[true_keyword]:\n",
    "                if case in case_score:\n",
    "                    case_score[case].append(keyword)\n",
    "                else:\n",
    "                    case_score[case] = [keyword]\n",
    "    similar_cases = []\n",
    "    for i,key in enumerate(reversed(sorted(case_score.items(), key=lambda x: len(x[1])))):\n",
    "        if i == topn:\n",
    "            break\n",
    "        similar_cases.append((key[0],key[1]))\n",
    "    return similar_cases\n",
    "\n",
    "\n",
    "lstkeys = [\"India\", \"paid\", \"cusmer\"]\n",
    "get_similar_cases(lstkeys,10)\n"
   ]
  },
  {
   "cell_type": "code",
   "execution_count": null,
   "metadata": {},
   "outputs": [],
   "source": []
  }
 ],
 "metadata": {
  "kernelspec": {
   "display_name": "Python [default]",
   "language": "python",
   "name": "python3"
  },
  "language_info": {
   "codemirror_mode": {
    "name": "ipython",
    "version": 3
   },
   "file_extension": ".py",
   "mimetype": "text/x-python",
   "name": "python",
   "nbconvert_exporter": "python",
   "pygments_lexer": "ipython3",
   "version": "3.6.7"
  }
 },
 "nbformat": 4,
 "nbformat_minor": 2
}
